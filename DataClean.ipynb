{
 "cells": [
  {
   "cell_type": "markdown",
   "metadata": {},
   "source": [
    "# Data Cleaning"
   ]
  },
  {
   "cell_type": "code",
   "execution_count": 1,
   "metadata": {
    "collapsed": true
   },
   "outputs": [],
   "source": [
    "import pandas as pd\n",
    "import matplotlib.pyplot as plt\n",
    "%matplotlib inline\n",
    "import numpy as np"
   ]
  },
  {
   "cell_type": "code",
   "execution_count": 59,
   "metadata": {
    "collapsed": true
   },
   "outputs": [],
   "source": [
    "data = pd.read_csv('train.csv')\n",
    "data_copy = pd.read_csv('train.csv')"
   ]
  },
  {
   "cell_type": "code",
   "execution_count": null,
   "metadata": {
    "collapsed": true
   },
   "outputs": [],
   "source": [
    "# Which data values are null?\n",
    "data.isnull().sum()\n",
    "\n",
    "#LotFrontage       259\n",
    "#Electrical          1\n",
    "#MasVnrType          8\n",
    "#MasVnrArea          8\n",
    "#Alley            1369\n",
    "#BsmtQual           37\n",
    "#BsmtCond           37\n",
    "#BsmtExposure       38\n",
    "#BsmtFinType1       37\n",
    "#BsmtFinType2       38\n",
    "#FireplaceQu       690\n",
    "#GarageType         81\n",
    "#GarageYrBlt        81\n",
    "#GarageFinish       81\n",
    "#GarageQual         81\n",
    "#GarageCond         81\n",
    "#PoolQC           1453\n",
    "#Fence            1179\n",
    "#MiscFeature      1406"
   ]
  },
  {
   "cell_type": "code",
   "execution_count": 60,
   "metadata": {
    "collapsed": true
   },
   "outputs": [],
   "source": [
    "# Some variables have so many missing values that they are not useful for the study and need to be dropped\n",
    "data = data.drop(['Alley', 'FireplaceQu', 'PoolQC', 'Fence', 'MiscFeature'], axis=1)"
   ]
  },
  {
   "cell_type": "markdown",
   "metadata": {},
   "source": [
    "### Electrical"
   ]
  },
  {
   "cell_type": "code",
   "execution_count": 61,
   "metadata": {},
   "outputs": [
    {
     "data": {
      "text/plain": [
       "(array([False,  True], dtype=bool), array([75,  1], dtype=int64))"
      ]
     },
     "execution_count": 61,
     "metadata": {},
     "output_type": "execute_result"
    }
   ],
   "source": [
    "#Electrical has the following values\n",
    "#       SBrkr\tStandard Circuit Breakers & Romex\n",
    "#       FuseA\tFuse Box over 60 AMP and all Romex wiring (Average)\t\n",
    "#       FuseF\t60 AMP Fuse Box and mostly Romex wiring (Fair)\n",
    "#       FuseP\t60 AMP Fuse Box and mostly knob & tube wiring (poor)\n",
    "#       Mix\tMixed\n",
    "\n",
    "# Electrical only has 1 missing data point. For the row with missing electrical value, are there any other missing\n",
    "# values?\n",
    "np.unique(data[data['Electrical'].isnull()==True].isnull().any(axis=0).tolist(), return_counts=True)\n",
    "# Results below suggest that all other 75 values in the row of data are not null, and that only 'Electrical'\n",
    "# is missing for this row of data"
   ]
  },
  {
   "cell_type": "code",
   "execution_count": 62,
   "metadata": {
    "collapsed": true
   },
   "outputs": [],
   "source": [
    "# There are 3 choices with regard to dealing with missing data points: \n",
    "# 1. discard the row\n",
    "# 2. Replace with the median value or \n",
    "# 3. take the best guess with the value. \n",
    "# It is difficult to guess the value (may need to regress Electrical against rest of values to determine the closest value\n",
    "# and replacing with the median has the risk of not representing the true value, although this might not affect results that\n",
    "# much as this is only one value.)\n",
    "\n",
    "# Since it is just 1 row of data, we will drop the row\n",
    "data = data[data['Electrical'].isnull()==False]"
   ]
  },
  {
   "cell_type": "markdown",
   "metadata": {},
   "source": [
    "### Lot Frontage (linear feet of street connected to property)"
   ]
  },
  {
   "cell_type": "code",
   "execution_count": 63,
   "metadata": {
    "collapsed": true
   },
   "outputs": [],
   "source": [
    "# LotFrontage: Linear feet of street connected to property\n",
    "# For LotFrontage, we will assume that if it is NaN, then there is 0 feet of property connected to the street\n",
    "data['LotFrontage'].fillna(0, inplace=True)"
   ]
  },
  {
   "cell_type": "markdown",
   "metadata": {},
   "source": [
    "### Masonry"
   ]
  },
  {
   "cell_type": "code",
   "execution_count": 64,
   "metadata": {},
   "outputs": [
    {
     "data": {
      "text/plain": [
       "234    NaN\n",
       "529    NaN\n",
       "650    NaN\n",
       "936    NaN\n",
       "973    NaN\n",
       "977    NaN\n",
       "1243   NaN\n",
       "1278   NaN\n",
       "Name: MasVnrArea, dtype: float64"
      ]
     },
     "execution_count": 64,
     "metadata": {},
     "output_type": "execute_result"
    }
   ],
   "source": [
    "# Has 8 missing values. For rows where veneer type is NaN, is Veneer Area missing also? If so, then we can \n",
    "data[data['MasVnrType'].isnull()==True]['MasVnrArea']\n",
    "# The below results show this is true"
   ]
  },
  {
   "cell_type": "code",
   "execution_count": 65,
   "metadata": {},
   "outputs": [
    {
     "data": {
      "text/plain": [
       "0.0      858\n",
       "1.0        2\n",
       "312.0      1\n",
       "344.0      1\n",
       "288.0      1\n",
       "Name: MasVnrArea, dtype: int64"
      ]
     },
     "execution_count": 65,
     "metadata": {},
     "output_type": "execute_result"
    }
   ],
   "source": [
    "# Check that for instances where MasVnrType is none, the MasVnrArea is 0.\n",
    "data[data['MasVnrType']=='None']['MasVnrArea'].value_counts(dropna=False)\n",
    "# The below results show this is true most of the time, but there are some exceptions."
   ]
  },
  {
   "cell_type": "code",
   "execution_count": 66,
   "metadata": {
    "collapsed": true
   },
   "outputs": [],
   "source": [
    "# Correct data quality issue: Replace MasVnrArea with 0 when MasVnrType is None\n",
    "data.loc[(data['MasVnrType'] == \"None\") & (data['MasVnrArea']!=0), 'MasVnrArea'] = 0"
   ]
  },
  {
   "cell_type": "code",
   "execution_count": 67,
   "metadata": {},
   "outputs": [
    {
     "data": {
      "text/plain": [
       "0.0    863\n",
       "Name: MasVnrArea, dtype: int64"
      ]
     },
     "execution_count": 67,
     "metadata": {},
     "output_type": "execute_result"
    }
   ],
   "source": [
    "# Check that data quality issue has been corrected\n",
    "data[data['MasVnrType']=='None']['MasVnrArea'].value_counts(dropna=False)"
   ]
  },
  {
   "cell_type": "code",
   "execution_count": 68,
   "metadata": {
    "collapsed": true
   },
   "outputs": [],
   "source": [
    "# Fill missing values for MasVnrType with \"none\"\n",
    "data['MasVnrType'].fillna(\"None\", inplace=True)\n",
    "\n",
    "# Fill missing values for MasVnrArea with 0\n",
    "data['MasVnrArea'].fillna(0, inplace=True)"
   ]
  },
  {
   "cell_type": "markdown",
   "metadata": {},
   "source": [
    "### Basement\n",
    "Here are all the basement-related variables: BsmtCond, BsmtExposure, BsmtFinSF1, BsmtFinSF2, BsmtFinType1, BsmtFinType2, BsmtFullBath, BsmtHalfBath, BsmtQual, BsmtUnfSF"
   ]
  },
  {
   "cell_type": "code",
   "execution_count": 24,
   "metadata": {},
   "outputs": [
    {
     "data": {
      "text/html": [
       "<div>\n",
       "<style>\n",
       "    .dataframe thead tr:only-child th {\n",
       "        text-align: right;\n",
       "    }\n",
       "\n",
       "    .dataframe thead th {\n",
       "        text-align: left;\n",
       "    }\n",
       "\n",
       "    .dataframe tbody tr th {\n",
       "        vertical-align: top;\n",
       "    }\n",
       "</style>\n",
       "<table border=\"1\" class=\"dataframe\">\n",
       "  <thead>\n",
       "    <tr style=\"text-align: right;\">\n",
       "      <th></th>\n",
       "      <th>BsmtQual</th>\n",
       "      <th>BsmtCond</th>\n",
       "      <th>BsmtFinSF1</th>\n",
       "      <th>BsmtFinSF2</th>\n",
       "      <th>BsmtFinType1</th>\n",
       "      <th>BsmtFinType2</th>\n",
       "      <th>BsmtFullBath</th>\n",
       "      <th>BsmtHalfBath</th>\n",
       "      <th>BsmtQual</th>\n",
       "      <th>BsmtUnfSF</th>\n",
       "    </tr>\n",
       "  </thead>\n",
       "  <tbody>\n",
       "    <tr>\n",
       "      <th>17</th>\n",
       "      <td>NaN</td>\n",
       "      <td>NaN</td>\n",
       "      <td>0</td>\n",
       "      <td>0</td>\n",
       "      <td>NaN</td>\n",
       "      <td>NaN</td>\n",
       "      <td>0</td>\n",
       "      <td>0</td>\n",
       "      <td>NaN</td>\n",
       "      <td>0</td>\n",
       "    </tr>\n",
       "    <tr>\n",
       "      <th>39</th>\n",
       "      <td>NaN</td>\n",
       "      <td>NaN</td>\n",
       "      <td>0</td>\n",
       "      <td>0</td>\n",
       "      <td>NaN</td>\n",
       "      <td>NaN</td>\n",
       "      <td>0</td>\n",
       "      <td>0</td>\n",
       "      <td>NaN</td>\n",
       "      <td>0</td>\n",
       "    </tr>\n",
       "    <tr>\n",
       "      <th>90</th>\n",
       "      <td>NaN</td>\n",
       "      <td>NaN</td>\n",
       "      <td>0</td>\n",
       "      <td>0</td>\n",
       "      <td>NaN</td>\n",
       "      <td>NaN</td>\n",
       "      <td>0</td>\n",
       "      <td>0</td>\n",
       "      <td>NaN</td>\n",
       "      <td>0</td>\n",
       "    </tr>\n",
       "    <tr>\n",
       "      <th>102</th>\n",
       "      <td>NaN</td>\n",
       "      <td>NaN</td>\n",
       "      <td>0</td>\n",
       "      <td>0</td>\n",
       "      <td>NaN</td>\n",
       "      <td>NaN</td>\n",
       "      <td>0</td>\n",
       "      <td>0</td>\n",
       "      <td>NaN</td>\n",
       "      <td>0</td>\n",
       "    </tr>\n",
       "    <tr>\n",
       "      <th>156</th>\n",
       "      <td>NaN</td>\n",
       "      <td>NaN</td>\n",
       "      <td>0</td>\n",
       "      <td>0</td>\n",
       "      <td>NaN</td>\n",
       "      <td>NaN</td>\n",
       "      <td>0</td>\n",
       "      <td>0</td>\n",
       "      <td>NaN</td>\n",
       "      <td>0</td>\n",
       "    </tr>\n",
       "    <tr>\n",
       "      <th>182</th>\n",
       "      <td>NaN</td>\n",
       "      <td>NaN</td>\n",
       "      <td>0</td>\n",
       "      <td>0</td>\n",
       "      <td>NaN</td>\n",
       "      <td>NaN</td>\n",
       "      <td>0</td>\n",
       "      <td>0</td>\n",
       "      <td>NaN</td>\n",
       "      <td>0</td>\n",
       "    </tr>\n",
       "    <tr>\n",
       "      <th>259</th>\n",
       "      <td>NaN</td>\n",
       "      <td>NaN</td>\n",
       "      <td>0</td>\n",
       "      <td>0</td>\n",
       "      <td>NaN</td>\n",
       "      <td>NaN</td>\n",
       "      <td>0</td>\n",
       "      <td>0</td>\n",
       "      <td>NaN</td>\n",
       "      <td>0</td>\n",
       "    </tr>\n",
       "    <tr>\n",
       "      <th>342</th>\n",
       "      <td>NaN</td>\n",
       "      <td>NaN</td>\n",
       "      <td>0</td>\n",
       "      <td>0</td>\n",
       "      <td>NaN</td>\n",
       "      <td>NaN</td>\n",
       "      <td>0</td>\n",
       "      <td>0</td>\n",
       "      <td>NaN</td>\n",
       "      <td>0</td>\n",
       "    </tr>\n",
       "    <tr>\n",
       "      <th>362</th>\n",
       "      <td>NaN</td>\n",
       "      <td>NaN</td>\n",
       "      <td>0</td>\n",
       "      <td>0</td>\n",
       "      <td>NaN</td>\n",
       "      <td>NaN</td>\n",
       "      <td>0</td>\n",
       "      <td>0</td>\n",
       "      <td>NaN</td>\n",
       "      <td>0</td>\n",
       "    </tr>\n",
       "    <tr>\n",
       "      <th>371</th>\n",
       "      <td>NaN</td>\n",
       "      <td>NaN</td>\n",
       "      <td>0</td>\n",
       "      <td>0</td>\n",
       "      <td>NaN</td>\n",
       "      <td>NaN</td>\n",
       "      <td>0</td>\n",
       "      <td>0</td>\n",
       "      <td>NaN</td>\n",
       "      <td>0</td>\n",
       "    </tr>\n",
       "    <tr>\n",
       "      <th>392</th>\n",
       "      <td>NaN</td>\n",
       "      <td>NaN</td>\n",
       "      <td>0</td>\n",
       "      <td>0</td>\n",
       "      <td>NaN</td>\n",
       "      <td>NaN</td>\n",
       "      <td>0</td>\n",
       "      <td>0</td>\n",
       "      <td>NaN</td>\n",
       "      <td>0</td>\n",
       "    </tr>\n",
       "    <tr>\n",
       "      <th>520</th>\n",
       "      <td>NaN</td>\n",
       "      <td>NaN</td>\n",
       "      <td>0</td>\n",
       "      <td>0</td>\n",
       "      <td>NaN</td>\n",
       "      <td>NaN</td>\n",
       "      <td>0</td>\n",
       "      <td>0</td>\n",
       "      <td>NaN</td>\n",
       "      <td>0</td>\n",
       "    </tr>\n",
       "    <tr>\n",
       "      <th>532</th>\n",
       "      <td>NaN</td>\n",
       "      <td>NaN</td>\n",
       "      <td>0</td>\n",
       "      <td>0</td>\n",
       "      <td>NaN</td>\n",
       "      <td>NaN</td>\n",
       "      <td>0</td>\n",
       "      <td>0</td>\n",
       "      <td>NaN</td>\n",
       "      <td>0</td>\n",
       "    </tr>\n",
       "    <tr>\n",
       "      <th>533</th>\n",
       "      <td>NaN</td>\n",
       "      <td>NaN</td>\n",
       "      <td>0</td>\n",
       "      <td>0</td>\n",
       "      <td>NaN</td>\n",
       "      <td>NaN</td>\n",
       "      <td>0</td>\n",
       "      <td>0</td>\n",
       "      <td>NaN</td>\n",
       "      <td>0</td>\n",
       "    </tr>\n",
       "    <tr>\n",
       "      <th>553</th>\n",
       "      <td>NaN</td>\n",
       "      <td>NaN</td>\n",
       "      <td>0</td>\n",
       "      <td>0</td>\n",
       "      <td>NaN</td>\n",
       "      <td>NaN</td>\n",
       "      <td>0</td>\n",
       "      <td>0</td>\n",
       "      <td>NaN</td>\n",
       "      <td>0</td>\n",
       "    </tr>\n",
       "    <tr>\n",
       "      <th>646</th>\n",
       "      <td>NaN</td>\n",
       "      <td>NaN</td>\n",
       "      <td>0</td>\n",
       "      <td>0</td>\n",
       "      <td>NaN</td>\n",
       "      <td>NaN</td>\n",
       "      <td>0</td>\n",
       "      <td>0</td>\n",
       "      <td>NaN</td>\n",
       "      <td>0</td>\n",
       "    </tr>\n",
       "    <tr>\n",
       "      <th>705</th>\n",
       "      <td>NaN</td>\n",
       "      <td>NaN</td>\n",
       "      <td>0</td>\n",
       "      <td>0</td>\n",
       "      <td>NaN</td>\n",
       "      <td>NaN</td>\n",
       "      <td>0</td>\n",
       "      <td>0</td>\n",
       "      <td>NaN</td>\n",
       "      <td>0</td>\n",
       "    </tr>\n",
       "    <tr>\n",
       "      <th>736</th>\n",
       "      <td>NaN</td>\n",
       "      <td>NaN</td>\n",
       "      <td>0</td>\n",
       "      <td>0</td>\n",
       "      <td>NaN</td>\n",
       "      <td>NaN</td>\n",
       "      <td>0</td>\n",
       "      <td>0</td>\n",
       "      <td>NaN</td>\n",
       "      <td>0</td>\n",
       "    </tr>\n",
       "    <tr>\n",
       "      <th>749</th>\n",
       "      <td>NaN</td>\n",
       "      <td>NaN</td>\n",
       "      <td>0</td>\n",
       "      <td>0</td>\n",
       "      <td>NaN</td>\n",
       "      <td>NaN</td>\n",
       "      <td>0</td>\n",
       "      <td>0</td>\n",
       "      <td>NaN</td>\n",
       "      <td>0</td>\n",
       "    </tr>\n",
       "    <tr>\n",
       "      <th>778</th>\n",
       "      <td>NaN</td>\n",
       "      <td>NaN</td>\n",
       "      <td>0</td>\n",
       "      <td>0</td>\n",
       "      <td>NaN</td>\n",
       "      <td>NaN</td>\n",
       "      <td>0</td>\n",
       "      <td>0</td>\n",
       "      <td>NaN</td>\n",
       "      <td>0</td>\n",
       "    </tr>\n",
       "    <tr>\n",
       "      <th>868</th>\n",
       "      <td>NaN</td>\n",
       "      <td>NaN</td>\n",
       "      <td>0</td>\n",
       "      <td>0</td>\n",
       "      <td>NaN</td>\n",
       "      <td>NaN</td>\n",
       "      <td>0</td>\n",
       "      <td>0</td>\n",
       "      <td>NaN</td>\n",
       "      <td>0</td>\n",
       "    </tr>\n",
       "    <tr>\n",
       "      <th>894</th>\n",
       "      <td>NaN</td>\n",
       "      <td>NaN</td>\n",
       "      <td>0</td>\n",
       "      <td>0</td>\n",
       "      <td>NaN</td>\n",
       "      <td>NaN</td>\n",
       "      <td>0</td>\n",
       "      <td>0</td>\n",
       "      <td>NaN</td>\n",
       "      <td>0</td>\n",
       "    </tr>\n",
       "    <tr>\n",
       "      <th>897</th>\n",
       "      <td>NaN</td>\n",
       "      <td>NaN</td>\n",
       "      <td>0</td>\n",
       "      <td>0</td>\n",
       "      <td>NaN</td>\n",
       "      <td>NaN</td>\n",
       "      <td>0</td>\n",
       "      <td>0</td>\n",
       "      <td>NaN</td>\n",
       "      <td>0</td>\n",
       "    </tr>\n",
       "    <tr>\n",
       "      <th>948</th>\n",
       "      <td>Gd</td>\n",
       "      <td>TA</td>\n",
       "      <td>0</td>\n",
       "      <td>0</td>\n",
       "      <td>Unf</td>\n",
       "      <td>Unf</td>\n",
       "      <td>0</td>\n",
       "      <td>0</td>\n",
       "      <td>Gd</td>\n",
       "      <td>936</td>\n",
       "    </tr>\n",
       "    <tr>\n",
       "      <th>984</th>\n",
       "      <td>NaN</td>\n",
       "      <td>NaN</td>\n",
       "      <td>0</td>\n",
       "      <td>0</td>\n",
       "      <td>NaN</td>\n",
       "      <td>NaN</td>\n",
       "      <td>0</td>\n",
       "      <td>0</td>\n",
       "      <td>NaN</td>\n",
       "      <td>0</td>\n",
       "    </tr>\n",
       "    <tr>\n",
       "      <th>1000</th>\n",
       "      <td>NaN</td>\n",
       "      <td>NaN</td>\n",
       "      <td>0</td>\n",
       "      <td>0</td>\n",
       "      <td>NaN</td>\n",
       "      <td>NaN</td>\n",
       "      <td>0</td>\n",
       "      <td>0</td>\n",
       "      <td>NaN</td>\n",
       "      <td>0</td>\n",
       "    </tr>\n",
       "    <tr>\n",
       "      <th>1011</th>\n",
       "      <td>NaN</td>\n",
       "      <td>NaN</td>\n",
       "      <td>0</td>\n",
       "      <td>0</td>\n",
       "      <td>NaN</td>\n",
       "      <td>NaN</td>\n",
       "      <td>0</td>\n",
       "      <td>0</td>\n",
       "      <td>NaN</td>\n",
       "      <td>0</td>\n",
       "    </tr>\n",
       "    <tr>\n",
       "      <th>1035</th>\n",
       "      <td>NaN</td>\n",
       "      <td>NaN</td>\n",
       "      <td>0</td>\n",
       "      <td>0</td>\n",
       "      <td>NaN</td>\n",
       "      <td>NaN</td>\n",
       "      <td>0</td>\n",
       "      <td>0</td>\n",
       "      <td>NaN</td>\n",
       "      <td>0</td>\n",
       "    </tr>\n",
       "    <tr>\n",
       "      <th>1045</th>\n",
       "      <td>NaN</td>\n",
       "      <td>NaN</td>\n",
       "      <td>0</td>\n",
       "      <td>0</td>\n",
       "      <td>NaN</td>\n",
       "      <td>NaN</td>\n",
       "      <td>0</td>\n",
       "      <td>0</td>\n",
       "      <td>NaN</td>\n",
       "      <td>0</td>\n",
       "    </tr>\n",
       "    <tr>\n",
       "      <th>1048</th>\n",
       "      <td>NaN</td>\n",
       "      <td>NaN</td>\n",
       "      <td>0</td>\n",
       "      <td>0</td>\n",
       "      <td>NaN</td>\n",
       "      <td>NaN</td>\n",
       "      <td>0</td>\n",
       "      <td>0</td>\n",
       "      <td>NaN</td>\n",
       "      <td>0</td>\n",
       "    </tr>\n",
       "    <tr>\n",
       "      <th>1049</th>\n",
       "      <td>NaN</td>\n",
       "      <td>NaN</td>\n",
       "      <td>0</td>\n",
       "      <td>0</td>\n",
       "      <td>NaN</td>\n",
       "      <td>NaN</td>\n",
       "      <td>0</td>\n",
       "      <td>0</td>\n",
       "      <td>NaN</td>\n",
       "      <td>0</td>\n",
       "    </tr>\n",
       "    <tr>\n",
       "      <th>1090</th>\n",
       "      <td>NaN</td>\n",
       "      <td>NaN</td>\n",
       "      <td>0</td>\n",
       "      <td>0</td>\n",
       "      <td>NaN</td>\n",
       "      <td>NaN</td>\n",
       "      <td>0</td>\n",
       "      <td>0</td>\n",
       "      <td>NaN</td>\n",
       "      <td>0</td>\n",
       "    </tr>\n",
       "    <tr>\n",
       "      <th>1179</th>\n",
       "      <td>NaN</td>\n",
       "      <td>NaN</td>\n",
       "      <td>0</td>\n",
       "      <td>0</td>\n",
       "      <td>NaN</td>\n",
       "      <td>NaN</td>\n",
       "      <td>0</td>\n",
       "      <td>0</td>\n",
       "      <td>NaN</td>\n",
       "      <td>0</td>\n",
       "    </tr>\n",
       "    <tr>\n",
       "      <th>1216</th>\n",
       "      <td>NaN</td>\n",
       "      <td>NaN</td>\n",
       "      <td>0</td>\n",
       "      <td>0</td>\n",
       "      <td>NaN</td>\n",
       "      <td>NaN</td>\n",
       "      <td>0</td>\n",
       "      <td>0</td>\n",
       "      <td>NaN</td>\n",
       "      <td>0</td>\n",
       "    </tr>\n",
       "    <tr>\n",
       "      <th>1218</th>\n",
       "      <td>NaN</td>\n",
       "      <td>NaN</td>\n",
       "      <td>0</td>\n",
       "      <td>0</td>\n",
       "      <td>NaN</td>\n",
       "      <td>NaN</td>\n",
       "      <td>0</td>\n",
       "      <td>0</td>\n",
       "      <td>NaN</td>\n",
       "      <td>0</td>\n",
       "    </tr>\n",
       "    <tr>\n",
       "      <th>1232</th>\n",
       "      <td>NaN</td>\n",
       "      <td>NaN</td>\n",
       "      <td>0</td>\n",
       "      <td>0</td>\n",
       "      <td>NaN</td>\n",
       "      <td>NaN</td>\n",
       "      <td>0</td>\n",
       "      <td>0</td>\n",
       "      <td>NaN</td>\n",
       "      <td>0</td>\n",
       "    </tr>\n",
       "    <tr>\n",
       "      <th>1321</th>\n",
       "      <td>NaN</td>\n",
       "      <td>NaN</td>\n",
       "      <td>0</td>\n",
       "      <td>0</td>\n",
       "      <td>NaN</td>\n",
       "      <td>NaN</td>\n",
       "      <td>0</td>\n",
       "      <td>0</td>\n",
       "      <td>NaN</td>\n",
       "      <td>0</td>\n",
       "    </tr>\n",
       "    <tr>\n",
       "      <th>1412</th>\n",
       "      <td>NaN</td>\n",
       "      <td>NaN</td>\n",
       "      <td>0</td>\n",
       "      <td>0</td>\n",
       "      <td>NaN</td>\n",
       "      <td>NaN</td>\n",
       "      <td>0</td>\n",
       "      <td>0</td>\n",
       "      <td>NaN</td>\n",
       "      <td>0</td>\n",
       "    </tr>\n",
       "  </tbody>\n",
       "</table>\n",
       "</div>"
      ],
      "text/plain": [
       "     BsmtQual BsmtCond  BsmtFinSF1  BsmtFinSF2 BsmtFinType1 BsmtFinType2  \\\n",
       "17        NaN      NaN           0           0          NaN          NaN   \n",
       "39        NaN      NaN           0           0          NaN          NaN   \n",
       "90        NaN      NaN           0           0          NaN          NaN   \n",
       "102       NaN      NaN           0           0          NaN          NaN   \n",
       "156       NaN      NaN           0           0          NaN          NaN   \n",
       "182       NaN      NaN           0           0          NaN          NaN   \n",
       "259       NaN      NaN           0           0          NaN          NaN   \n",
       "342       NaN      NaN           0           0          NaN          NaN   \n",
       "362       NaN      NaN           0           0          NaN          NaN   \n",
       "371       NaN      NaN           0           0          NaN          NaN   \n",
       "392       NaN      NaN           0           0          NaN          NaN   \n",
       "520       NaN      NaN           0           0          NaN          NaN   \n",
       "532       NaN      NaN           0           0          NaN          NaN   \n",
       "533       NaN      NaN           0           0          NaN          NaN   \n",
       "553       NaN      NaN           0           0          NaN          NaN   \n",
       "646       NaN      NaN           0           0          NaN          NaN   \n",
       "705       NaN      NaN           0           0          NaN          NaN   \n",
       "736       NaN      NaN           0           0          NaN          NaN   \n",
       "749       NaN      NaN           0           0          NaN          NaN   \n",
       "778       NaN      NaN           0           0          NaN          NaN   \n",
       "868       NaN      NaN           0           0          NaN          NaN   \n",
       "894       NaN      NaN           0           0          NaN          NaN   \n",
       "897       NaN      NaN           0           0          NaN          NaN   \n",
       "948        Gd       TA           0           0          Unf          Unf   \n",
       "984       NaN      NaN           0           0          NaN          NaN   \n",
       "1000      NaN      NaN           0           0          NaN          NaN   \n",
       "1011      NaN      NaN           0           0          NaN          NaN   \n",
       "1035      NaN      NaN           0           0          NaN          NaN   \n",
       "1045      NaN      NaN           0           0          NaN          NaN   \n",
       "1048      NaN      NaN           0           0          NaN          NaN   \n",
       "1049      NaN      NaN           0           0          NaN          NaN   \n",
       "1090      NaN      NaN           0           0          NaN          NaN   \n",
       "1179      NaN      NaN           0           0          NaN          NaN   \n",
       "1216      NaN      NaN           0           0          NaN          NaN   \n",
       "1218      NaN      NaN           0           0          NaN          NaN   \n",
       "1232      NaN      NaN           0           0          NaN          NaN   \n",
       "1321      NaN      NaN           0           0          NaN          NaN   \n",
       "1412      NaN      NaN           0           0          NaN          NaN   \n",
       "\n",
       "      BsmtFullBath  BsmtHalfBath BsmtQual  BsmtUnfSF  \n",
       "17               0             0      NaN          0  \n",
       "39               0             0      NaN          0  \n",
       "90               0             0      NaN          0  \n",
       "102              0             0      NaN          0  \n",
       "156              0             0      NaN          0  \n",
       "182              0             0      NaN          0  \n",
       "259              0             0      NaN          0  \n",
       "342              0             0      NaN          0  \n",
       "362              0             0      NaN          0  \n",
       "371              0             0      NaN          0  \n",
       "392              0             0      NaN          0  \n",
       "520              0             0      NaN          0  \n",
       "532              0             0      NaN          0  \n",
       "533              0             0      NaN          0  \n",
       "553              0             0      NaN          0  \n",
       "646              0             0      NaN          0  \n",
       "705              0             0      NaN          0  \n",
       "736              0             0      NaN          0  \n",
       "749              0             0      NaN          0  \n",
       "778              0             0      NaN          0  \n",
       "868              0             0      NaN          0  \n",
       "894              0             0      NaN          0  \n",
       "897              0             0      NaN          0  \n",
       "948              0             0       Gd        936  \n",
       "984              0             0      NaN          0  \n",
       "1000             0             0      NaN          0  \n",
       "1011             0             0      NaN          0  \n",
       "1035             0             0      NaN          0  \n",
       "1045             0             0      NaN          0  \n",
       "1048             0             0      NaN          0  \n",
       "1049             0             0      NaN          0  \n",
       "1090             0             0      NaN          0  \n",
       "1179             0             0      NaN          0  \n",
       "1216             0             0      NaN          0  \n",
       "1218             0             0      NaN          0  \n",
       "1232             0             0      NaN          0  \n",
       "1321             0             0      NaN          0  \n",
       "1412             0             0      NaN          0  "
      ]
     },
     "execution_count": 24,
     "metadata": {},
     "output_type": "execute_result"
    }
   ],
   "source": [
    "# What are the values of basement variables when BsmtExposure is missing?\n",
    "data[data['BsmtExposure'].isnull()==True][['BsmtQual', 'BsmtCond', 'BsmtFinSF1', 'BsmtFinSF2', 'BsmtFinType1', 'BsmtFinType2', \n",
    "                                      'BsmtFullBath', 'BsmtHalfBath', 'BsmtQual', 'BsmtUnfSF']]"
   ]
  },
  {
   "cell_type": "markdown",
   "metadata": {},
   "source": [
    "When BsmtExposure is missing, the value is either missing or 0 for other basement-related variables. There is one row, row 948, where the basement is unfinished."
   ]
  },
  {
   "cell_type": "code",
   "execution_count": 25,
   "metadata": {},
   "outputs": [
    {
     "data": {
      "text/plain": [
       "Unf    429\n",
       "GLQ    418\n",
       "ALQ    220\n",
       "BLQ    148\n",
       "Rec    133\n",
       "LwQ     74\n",
       "NaN     37\n",
       "Name: BsmtFinType1, dtype: int64"
      ]
     },
     "execution_count": 25,
     "metadata": {},
     "output_type": "execute_result"
    }
   ],
   "source": [
    "# How many basements are unfinished?\n",
    "data['BsmtFinType1'].value_counts(dropna=False)"
   ]
  },
  {
   "cell_type": "code",
   "execution_count": 29,
   "metadata": {},
   "outputs": [
    {
     "data": {
      "text/html": [
       "<div>\n",
       "<style>\n",
       "    .dataframe thead tr:only-child th {\n",
       "        text-align: right;\n",
       "    }\n",
       "\n",
       "    .dataframe thead th {\n",
       "        text-align: left;\n",
       "    }\n",
       "\n",
       "    .dataframe tbody tr th {\n",
       "        vertical-align: top;\n",
       "    }\n",
       "</style>\n",
       "<table border=\"1\" class=\"dataframe\">\n",
       "  <thead>\n",
       "    <tr style=\"text-align: right;\">\n",
       "      <th></th>\n",
       "      <th>BsmtQual</th>\n",
       "      <th>BsmtCond</th>\n",
       "      <th>BsmtExposure</th>\n",
       "      <th>BsmtFinSF2</th>\n",
       "      <th>BsmtFinType1</th>\n",
       "      <th>BsmtFinType2</th>\n",
       "      <th>BsmtFullBath</th>\n",
       "      <th>BsmtHalfBath</th>\n",
       "      <th>BsmtQual</th>\n",
       "      <th>BsmtUnfSF</th>\n",
       "    </tr>\n",
       "  </thead>\n",
       "  <tbody>\n",
       "    <tr>\n",
       "      <th>8</th>\n",
       "      <td>TA</td>\n",
       "      <td>TA</td>\n",
       "      <td>No</td>\n",
       "      <td>0</td>\n",
       "      <td>Unf</td>\n",
       "      <td>Unf</td>\n",
       "      <td>0</td>\n",
       "      <td>0</td>\n",
       "      <td>TA</td>\n",
       "      <td>952</td>\n",
       "    </tr>\n",
       "    <tr>\n",
       "      <th>13</th>\n",
       "      <td>Gd</td>\n",
       "      <td>TA</td>\n",
       "      <td>Av</td>\n",
       "      <td>0</td>\n",
       "      <td>Unf</td>\n",
       "      <td>Unf</td>\n",
       "      <td>0</td>\n",
       "      <td>0</td>\n",
       "      <td>Gd</td>\n",
       "      <td>1494</td>\n",
       "    </tr>\n",
       "    <tr>\n",
       "      <th>15</th>\n",
       "      <td>TA</td>\n",
       "      <td>TA</td>\n",
       "      <td>No</td>\n",
       "      <td>0</td>\n",
       "      <td>Unf</td>\n",
       "      <td>Unf</td>\n",
       "      <td>0</td>\n",
       "      <td>0</td>\n",
       "      <td>TA</td>\n",
       "      <td>832</td>\n",
       "    </tr>\n",
       "    <tr>\n",
       "      <th>20</th>\n",
       "      <td>Ex</td>\n",
       "      <td>TA</td>\n",
       "      <td>Av</td>\n",
       "      <td>0</td>\n",
       "      <td>Unf</td>\n",
       "      <td>Unf</td>\n",
       "      <td>0</td>\n",
       "      <td>0</td>\n",
       "      <td>Ex</td>\n",
       "      <td>1158</td>\n",
       "    </tr>\n",
       "    <tr>\n",
       "      <th>21</th>\n",
       "      <td>TA</td>\n",
       "      <td>TA</td>\n",
       "      <td>No</td>\n",
       "      <td>0</td>\n",
       "      <td>Unf</td>\n",
       "      <td>Unf</td>\n",
       "      <td>0</td>\n",
       "      <td>0</td>\n",
       "      <td>TA</td>\n",
       "      <td>637</td>\n",
       "    </tr>\n",
       "    <tr>\n",
       "      <th>22</th>\n",
       "      <td>Gd</td>\n",
       "      <td>TA</td>\n",
       "      <td>No</td>\n",
       "      <td>0</td>\n",
       "      <td>Unf</td>\n",
       "      <td>Unf</td>\n",
       "      <td>0</td>\n",
       "      <td>0</td>\n",
       "      <td>Gd</td>\n",
       "      <td>1777</td>\n",
       "    </tr>\n",
       "    <tr>\n",
       "      <th>25</th>\n",
       "      <td>Gd</td>\n",
       "      <td>TA</td>\n",
       "      <td>No</td>\n",
       "      <td>0</td>\n",
       "      <td>Unf</td>\n",
       "      <td>Unf</td>\n",
       "      <td>0</td>\n",
       "      <td>0</td>\n",
       "      <td>Gd</td>\n",
       "      <td>1566</td>\n",
       "    </tr>\n",
       "    <tr>\n",
       "      <th>29</th>\n",
       "      <td>TA</td>\n",
       "      <td>TA</td>\n",
       "      <td>No</td>\n",
       "      <td>0</td>\n",
       "      <td>Unf</td>\n",
       "      <td>Unf</td>\n",
       "      <td>0</td>\n",
       "      <td>0</td>\n",
       "      <td>TA</td>\n",
       "      <td>520</td>\n",
       "    </tr>\n",
       "    <tr>\n",
       "      <th>30</th>\n",
       "      <td>TA</td>\n",
       "      <td>TA</td>\n",
       "      <td>No</td>\n",
       "      <td>0</td>\n",
       "      <td>Unf</td>\n",
       "      <td>Unf</td>\n",
       "      <td>0</td>\n",
       "      <td>0</td>\n",
       "      <td>TA</td>\n",
       "      <td>649</td>\n",
       "    </tr>\n",
       "    <tr>\n",
       "      <th>31</th>\n",
       "      <td>TA</td>\n",
       "      <td>TA</td>\n",
       "      <td>No</td>\n",
       "      <td>0</td>\n",
       "      <td>Unf</td>\n",
       "      <td>Unf</td>\n",
       "      <td>0</td>\n",
       "      <td>0</td>\n",
       "      <td>TA</td>\n",
       "      <td>1228</td>\n",
       "    </tr>\n",
       "  </tbody>\n",
       "</table>\n",
       "</div>"
      ],
      "text/plain": [
       "   BsmtQual BsmtCond BsmtExposure  BsmtFinSF2 BsmtFinType1 BsmtFinType2  \\\n",
       "8        TA       TA           No           0          Unf          Unf   \n",
       "13       Gd       TA           Av           0          Unf          Unf   \n",
       "15       TA       TA           No           0          Unf          Unf   \n",
       "20       Ex       TA           Av           0          Unf          Unf   \n",
       "21       TA       TA           No           0          Unf          Unf   \n",
       "22       Gd       TA           No           0          Unf          Unf   \n",
       "25       Gd       TA           No           0          Unf          Unf   \n",
       "29       TA       TA           No           0          Unf          Unf   \n",
       "30       TA       TA           No           0          Unf          Unf   \n",
       "31       TA       TA           No           0          Unf          Unf   \n",
       "\n",
       "    BsmtFullBath  BsmtHalfBath BsmtQual  BsmtUnfSF  \n",
       "8              0             0       TA        952  \n",
       "13             0             0       Gd       1494  \n",
       "15             0             0       TA        832  \n",
       "20             0             0       Ex       1158  \n",
       "21             0             0       TA        637  \n",
       "22             0             0       Gd       1777  \n",
       "25             0             0       Gd       1566  \n",
       "29             0             0       TA        520  \n",
       "30             0             0       TA        649  \n",
       "31             0             0       TA       1228  "
      ]
     },
     "execution_count": 29,
     "metadata": {},
     "output_type": "execute_result"
    }
   ],
   "source": [
    "# What are the values for other basement variables when a basement is unfinished?\n",
    "data[data['BsmtFinType1']=='Unf'][['BsmtQual', 'BsmtCond', 'BsmtExposure', 'BsmtFinSF2', 'BsmtFinType1', 'BsmtFinType2', \n",
    "                                      'BsmtFullBath', 'BsmtHalfBath', 'BsmtQual', 'BsmtUnfSF']].head(10)"
   ]
  },
  {
   "cell_type": "code",
   "execution_count": 31,
   "metadata": {},
   "outputs": [
    {
     "data": {
      "text/plain": [
       "No     849\n",
       "Av     196\n",
       "Gd     113\n",
       "Mn      96\n",
       "NaN      1\n",
       "Name: BsmtExposure, dtype: int64"
      ]
     },
     "execution_count": 31,
     "metadata": {},
     "output_type": "execute_result"
    }
   ],
   "source": [
    "# It looks like basement exposure should not be null for unfinished basements.\n",
    "# How many BsmtFinType1 values are null when BsmtExposure is null?\n",
    "data[data['BsmtFinType2']=='Unf']['BsmtExposure'].value_counts(dropna=False)"
   ]
  },
  {
   "cell_type": "code",
   "execution_count": 69,
   "metadata": {
    "collapsed": true
   },
   "outputs": [],
   "source": [
    "# Only 1 row has BsmtExposure as null when the basement is unfinished.\n",
    "# Drop this row\n",
    "data = data.drop(data.index[np.where((data['BsmtFinType2']=='Unf') & (data['BsmtExposure'].isnull()))])"
   ]
  },
  {
   "cell_type": "code",
   "execution_count": 35,
   "metadata": {},
   "outputs": [
    {
     "data": {
      "text/plain": [
       "BsmtCond        0\n",
       "BsmtExposure    0\n",
       "BsmtFinSF1      0\n",
       "BsmtFinSF2      0\n",
       "BsmtFinType1    0\n",
       "BsmtFinType2    1\n",
       "BsmtFullBath    0\n",
       "BsmtHalfBath    0\n",
       "BsmtQual        0\n",
       "BsmtUnfSF       0\n",
       "dtype: int64"
      ]
     },
     "execution_count": 35,
     "metadata": {},
     "output_type": "execute_result"
    }
   ],
   "source": [
    "# For basements that are unfinished (BsmtUnfSF is not 0), what do the other basement data points look like?\n",
    "data[data['BsmtUnfSF']>0][['BsmtCond', 'BsmtExposure', 'BsmtFinSF1', 'BsmtFinSF2', 'BsmtFinType1', \n",
    "     'BsmtFinType2', 'BsmtFullBath', 'BsmtHalfBath', 'BsmtQual', 'BsmtUnfSF']].isnull().sum()"
   ]
  },
  {
   "cell_type": "code",
   "execution_count": 70,
   "metadata": {},
   "outputs": [],
   "source": [
    "# If a basement is unfinished, most basement variables still do not have missing values.\n",
    "# Drop rows where basement exposure and basement Fin Type 2 variables are null\n",
    "data = data.drop(data.index[np.where((data['BsmtUnfSF']>0) & (data['BsmtExposure'].isnull() | data['BsmtFinType2'].isnull()))])"
   ]
  },
  {
   "cell_type": "code",
   "execution_count": 71,
   "metadata": {
    "collapsed": true
   },
   "outputs": [],
   "source": [
    "# Create variable indicating whether the house has a basement or not.\n",
    "# If BsmtCond is null, then assume house does not have a basement\n",
    "data['HasBsmt'] = 1\n",
    "# If the basement condition is missing, then we assume that the house does not have a basement:\n",
    "data.loc[data['BsmtCond'].isnull(), 'HasBsmt'] = 0"
   ]
  },
  {
   "cell_type": "code",
   "execution_count": 72,
   "metadata": {},
   "outputs": [
    {
     "data": {
      "text/plain": [
       "(1457, 77)"
      ]
     },
     "execution_count": 72,
     "metadata": {},
     "output_type": "execute_result"
    }
   ],
   "source": [
    "data.shape # 3 rows have been dropped so far"
   ]
  },
  {
   "cell_type": "markdown",
   "metadata": {},
   "source": [
    "### Garage"
   ]
  },
  {
   "cell_type": "code",
   "execution_count": 39,
   "metadata": {},
   "outputs": [
    {
     "data": {
      "text/plain": [
       "GarageCond      81\n",
       "GarageFinish    81\n",
       "GarageQual      81\n",
       "GarageType      81\n",
       "GarageYrBlt     81\n",
       "dtype: int64"
      ]
     },
     "execution_count": 39,
     "metadata": {},
     "output_type": "execute_result"
    }
   ],
   "source": [
    "# It appears that 81 houses do not have garages\n",
    "data[data['GarageCond'].isnull()][['GarageCond', 'GarageFinish', 'GarageQual', 'GarageType', 'GarageYrBlt']].isnull().sum()"
   ]
  },
  {
   "cell_type": "code",
   "execution_count": 84,
   "metadata": {},
   "outputs": [
    {
     "data": {
      "text/plain": [
       "count    1379.000000\n",
       "mean     1978.506164\n",
       "std        24.689725\n",
       "min      1900.000000\n",
       "25%      1961.000000\n",
       "50%      1980.000000\n",
       "75%      2002.000000\n",
       "max      2010.000000\n",
       "Name: GarageYrBlt, dtype: float64"
      ]
     },
     "execution_count": 84,
     "metadata": {},
     "output_type": "execute_result"
    }
   ],
   "source": [
    "# What is distribution of garage year built in original data?\n",
    "data_copy['GarageYrBlt'].describe()"
   ]
  },
  {
   "cell_type": "code",
   "execution_count": 73,
   "metadata": {
    "collapsed": true
   },
   "outputs": [],
   "source": [
    "#Replace NA with NoGarage for Garage-Related Variables\n",
    "data.loc[data['GarageCond'].isnull(), 'GarageCond'] = \"NoGarage\"\n",
    "data.loc[data['GarageFinish'].isnull(), 'GarageFinish'] = \"NoGarage\"  \n",
    "data.loc[data['GarageQual'].isnull(), 'GarageQual'] = \"NoGarage\"         \n",
    "data.loc[data['GarageType'].isnull(), 'GarageType'] = \"NoGarage\"         \n",
    "#data.loc[data['GarageYrBlt'].isnull(), 'GarageYrBlt'] = 0    "
   ]
  },
  {
   "cell_type": "code",
   "execution_count": 74,
   "metadata": {},
   "outputs": [
    {
     "data": {
      "image/png": "[encoded data removed]",
      "text/plain": [
       "<matplotlib.figure.Figure at 0x1fb5c29b898>"
      ]
     },
     "metadata": {},
     "output_type": "display_data"
    }
   ],
   "source": [
    "# Do we need both Garage Cars and Garage Area? How are they correlated with each other?\n",
    "fig = plt.figure(figsize=(5, 5))\n",
    "\n",
    "plt.scatter(data['GarageCars'], data['GarageArea'])\n",
    "plt.show()"
   ]
  },
  {
   "cell_type": "code",
   "execution_count": 42,
   "metadata": {},
   "outputs": [
    {
     "data": {
      "text/plain": [
       "Text(0,0.5,'Sale Price')"
      ]
     },
     "execution_count": 42,
     "metadata": {},
     "output_type": "execute_result"
    },
    {
     "data": {
      "image/png": "[encoded data removed]",
      "text/plain": [
       "<matplotlib.figure.Figure at 0x1fb5742e198>"
      ]
     },
     "metadata": {},
     "output_type": "display_data"
    }
   ],
   "source": [
    "# Are the efects of Garage Cars and Garage Area have similar correlation with Sale Price?\n",
    "fig = plt.figure(figsize=(5, 10))\n",
    "axplot1 = fig.add_subplot(2, 1, 1)\n",
    "axplot1.scatter(data['GarageCars'], data['SalePrice'])\n",
    "axplot1.set_xlabel('Cars')\n",
    "axplot1.set_ylabel('Sale Price')\n",
    "\n",
    "axplot2 = fig.add_subplot(2, 1, 2)\n",
    "axplot2.scatter(data['GarageArea'], data['SalePrice'])\n",
    "axplot2.set_xlabel('Area')\n",
    "axplot2.set_ylabel('Sale Price')"
   ]
  },
  {
   "cell_type": "code",
   "execution_count": 43,
   "metadata": {
    "collapsed": true
   },
   "outputs": [],
   "source": [
    "# We will keep both for now and let regularization take care of this"
   ]
  },
  {
   "cell_type": "code",
   "execution_count": 75,
   "metadata": {},
   "outputs": [
    {
     "data": {
      "image/png": "[encoded data removed]",
      "text/plain": [
       "<matplotlib.figure.Figure at 0x1fb5c1bd978>"
      ]
     },
     "metadata": {},
     "output_type": "display_data"
    }
   ],
   "source": [
    "# For houses with missing values for year the garage was built, fill in the year with the year entire house was built\n",
    "# The graph below shows that most garages were built the same time as the houses, with some garages built later than the house\n",
    "\n",
    "plt.figure(figsize=(5, 5))\n",
    "plt.scatter(data['YearBuilt'], data['GarageYrBlt'])\n",
    "plt.xlabel('Year Built')\n",
    "plt.ylabel('Year Garage Built')\n",
    "plt.show()"
   ]
  },
  {
   "cell_type": "code",
   "execution_count": 77,
   "metadata": {},
   "outputs": [],
   "source": [
    "# Impute GarageYrBlt: wherever GarageYrBlt is null or 0, replace it with the year the house was built\n",
    "data.loc[(data['GarageYrBlt']==0)|(data['GarageYrBlt'].isnull()), 'GarageYrBlt'] = data['YearBuilt']"
   ]
  },
  {
   "cell_type": "code",
   "execution_count": 78,
   "metadata": {},
   "outputs": [
    {
     "data": {
      "image/png": "[encoded data removed]",
      "text/plain": [
       "<matplotlib.figure.Figure at 0x1fb5c37bb38>"
      ]
     },
     "metadata": {},
     "output_type": "display_data"
    }
   ],
   "source": [
    "# Check out new distribution\n",
    "plt.figure(figsize=(5, 5))\n",
    "plt.scatter(data['YearBuilt'], data['GarageYrBlt'])\n",
    "plt.xlabel('Year Built')\n",
    "plt.ylabel('Year Garage Built')\n",
    "plt.show()"
   ]
  },
  {
   "cell_type": "markdown",
   "metadata": {},
   "source": [
    "We have a few cases where the house was built very early on (before 1880) and never had a garage. The GarageYrBlt for these houses became 1880 also, even though logically, there would be no garages during that time. However, there are such few occurrences that this should not affect the analysis."
   ]
  },
  {
   "cell_type": "markdown",
   "metadata": {},
   "source": [
    "### Living Area"
   ]
  },
  {
   "cell_type": "code",
   "execution_count": 85,
   "metadata": {},
   "outputs": [
    {
     "data": {
      "text/html": [
       "<div>\n",
       "<style>\n",
       "    .dataframe thead tr:only-child th {\n",
       "        text-align: right;\n",
       "    }\n",
       "\n",
       "    .dataframe thead th {\n",
       "        text-align: left;\n",
       "    }\n",
       "\n",
       "    .dataframe tbody tr th {\n",
       "        vertical-align: top;\n",
       "    }\n",
       "</style>\n",
       "<table border=\"1\" class=\"dataframe\">\n",
       "  <thead>\n",
       "    <tr style=\"text-align: right;\">\n",
       "      <th></th>\n",
       "      <th>GrLivArea2</th>\n",
       "      <th>GrLivArea</th>\n",
       "      <th>1stFlrSF</th>\n",
       "      <th>2ndFlrSF</th>\n",
       "      <th>TotalBsmtSF</th>\n",
       "      <th>MSSubClass</th>\n",
       "    </tr>\n",
       "  </thead>\n",
       "  <tbody>\n",
       "    <tr>\n",
       "      <th>51</th>\n",
       "      <td>816</td>\n",
       "      <td>1176</td>\n",
       "      <td>816</td>\n",
       "      <td>0</td>\n",
       "      <td>816</td>\n",
       "      <td>50</td>\n",
       "    </tr>\n",
       "    <tr>\n",
       "      <th>88</th>\n",
       "      <td>1013</td>\n",
       "      <td>1526</td>\n",
       "      <td>1013</td>\n",
       "      <td>0</td>\n",
       "      <td>1013</td>\n",
       "      <td>50</td>\n",
       "    </tr>\n",
       "    <tr>\n",
       "      <th>125</th>\n",
       "      <td>520</td>\n",
       "      <td>754</td>\n",
       "      <td>520</td>\n",
       "      <td>0</td>\n",
       "      <td>520</td>\n",
       "      <td>190</td>\n",
       "    </tr>\n",
       "    <tr>\n",
       "      <th>170</th>\n",
       "      <td>854</td>\n",
       "      <td>1382</td>\n",
       "      <td>854</td>\n",
       "      <td>0</td>\n",
       "      <td>720</td>\n",
       "      <td>50</td>\n",
       "    </tr>\n",
       "    <tr>\n",
       "      <th>185</th>\n",
       "      <td>3036</td>\n",
       "      <td>3608</td>\n",
       "      <td>1518</td>\n",
       "      <td>1518</td>\n",
       "      <td>1107</td>\n",
       "      <td>75</td>\n",
       "    </tr>\n",
       "    <tr>\n",
       "      <th>187</th>\n",
       "      <td>1512</td>\n",
       "      <td>1656</td>\n",
       "      <td>808</td>\n",
       "      <td>704</td>\n",
       "      <td>660</td>\n",
       "      <td>50</td>\n",
       "    </tr>\n",
       "    <tr>\n",
       "      <th>197</th>\n",
       "      <td>2720</td>\n",
       "      <td>3112</td>\n",
       "      <td>1360</td>\n",
       "      <td>1360</td>\n",
       "      <td>1360</td>\n",
       "      <td>75</td>\n",
       "    </tr>\n",
       "    <tr>\n",
       "      <th>198</th>\n",
       "      <td>1858</td>\n",
       "      <td>2229</td>\n",
       "      <td>929</td>\n",
       "      <td>929</td>\n",
       "      <td>755</td>\n",
       "      <td>75</td>\n",
       "    </tr>\n",
       "    <tr>\n",
       "      <th>263</th>\n",
       "      <td>926</td>\n",
       "      <td>1316</td>\n",
       "      <td>926</td>\n",
       "      <td>0</td>\n",
       "      <td>926</td>\n",
       "      <td>50</td>\n",
       "    </tr>\n",
       "    <tr>\n",
       "      <th>267</th>\n",
       "      <td>1772</td>\n",
       "      <td>2192</td>\n",
       "      <td>1052</td>\n",
       "      <td>720</td>\n",
       "      <td>720</td>\n",
       "      <td>75</td>\n",
       "    </tr>\n",
       "    <tr>\n",
       "      <th>406</th>\n",
       "      <td>1166</td>\n",
       "      <td>1639</td>\n",
       "      <td>1166</td>\n",
       "      <td>0</td>\n",
       "      <td>1064</td>\n",
       "      <td>50</td>\n",
       "    </tr>\n",
       "    <tr>\n",
       "      <th>589</th>\n",
       "      <td>779</td>\n",
       "      <td>935</td>\n",
       "      <td>779</td>\n",
       "      <td>0</td>\n",
       "      <td>742</td>\n",
       "      <td>40</td>\n",
       "    </tr>\n",
       "    <tr>\n",
       "      <th>635</th>\n",
       "      <td>2880</td>\n",
       "      <td>3395</td>\n",
       "      <td>1440</td>\n",
       "      <td>1440</td>\n",
       "      <td>1440</td>\n",
       "      <td>190</td>\n",
       "    </tr>\n",
       "    <tr>\n",
       "      <th>729</th>\n",
       "      <td>848</td>\n",
       "      <td>1208</td>\n",
       "      <td>848</td>\n",
       "      <td>0</td>\n",
       "      <td>780</td>\n",
       "      <td>30</td>\n",
       "    </tr>\n",
       "    <tr>\n",
       "      <th>829</th>\n",
       "      <td>1143</td>\n",
       "      <td>1223</td>\n",
       "      <td>520</td>\n",
       "      <td>623</td>\n",
       "      <td>600</td>\n",
       "      <td>160</td>\n",
       "    </tr>\n",
       "    <tr>\n",
       "      <th>831</th>\n",
       "      <td>1120</td>\n",
       "      <td>1200</td>\n",
       "      <td>520</td>\n",
       "      <td>600</td>\n",
       "      <td>600</td>\n",
       "      <td>160</td>\n",
       "    </tr>\n",
       "    <tr>\n",
       "      <th>868</th>\n",
       "      <td>2267</td>\n",
       "      <td>2320</td>\n",
       "      <td>1547</td>\n",
       "      <td>720</td>\n",
       "      <td>0</td>\n",
       "      <td>60</td>\n",
       "    </tr>\n",
       "    <tr>\n",
       "      <th>873</th>\n",
       "      <td>1036</td>\n",
       "      <td>1268</td>\n",
       "      <td>1036</td>\n",
       "      <td>0</td>\n",
       "      <td>832</td>\n",
       "      <td>40</td>\n",
       "    </tr>\n",
       "    <tr>\n",
       "      <th>883</th>\n",
       "      <td>1749</td>\n",
       "      <td>2230</td>\n",
       "      <td>954</td>\n",
       "      <td>795</td>\n",
       "      <td>795</td>\n",
       "      <td>75</td>\n",
       "    </tr>\n",
       "    <tr>\n",
       "      <th>945</th>\n",
       "      <td>1749</td>\n",
       "      <td>1869</td>\n",
       "      <td>1188</td>\n",
       "      <td>561</td>\n",
       "      <td>1088</td>\n",
       "      <td>50</td>\n",
       "    </tr>\n",
       "    <tr>\n",
       "      <th>1009</th>\n",
       "      <td>1008</td>\n",
       "      <td>1522</td>\n",
       "      <td>1008</td>\n",
       "      <td>0</td>\n",
       "      <td>1008</td>\n",
       "      <td>50</td>\n",
       "    </tr>\n",
       "    <tr>\n",
       "      <th>1031</th>\n",
       "      <td>2685</td>\n",
       "      <td>3082</td>\n",
       "      <td>1687</td>\n",
       "      <td>998</td>\n",
       "      <td>824</td>\n",
       "      <td>75</td>\n",
       "    </tr>\n",
       "    <tr>\n",
       "      <th>1173</th>\n",
       "      <td>2607</td>\n",
       "      <td>3086</td>\n",
       "      <td>1636</td>\n",
       "      <td>971</td>\n",
       "      <td>1598</td>\n",
       "      <td>50</td>\n",
       "    </tr>\n",
       "    <tr>\n",
       "      <th>1349</th>\n",
       "      <td>2153</td>\n",
       "      <td>2358</td>\n",
       "      <td>938</td>\n",
       "      <td>1215</td>\n",
       "      <td>684</td>\n",
       "      <td>70</td>\n",
       "    </tr>\n",
       "    <tr>\n",
       "      <th>1364</th>\n",
       "      <td>1120</td>\n",
       "      <td>1200</td>\n",
       "      <td>520</td>\n",
       "      <td>600</td>\n",
       "      <td>600</td>\n",
       "      <td>160</td>\n",
       "    </tr>\n",
       "    <tr>\n",
       "      <th>1440</th>\n",
       "      <td>2171</td>\n",
       "      <td>2555</td>\n",
       "      <td>1423</td>\n",
       "      <td>748</td>\n",
       "      <td>588</td>\n",
       "      <td>70</td>\n",
       "    </tr>\n",
       "  </tbody>\n",
       "</table>\n",
       "</div>"
      ],
      "text/plain": [
       "      GrLivArea2  GrLivArea  1stFlrSF  2ndFlrSF  TotalBsmtSF  MSSubClass\n",
       "51           816       1176       816         0          816          50\n",
       "88          1013       1526      1013         0         1013          50\n",
       "125          520        754       520         0          520         190\n",
       "170          854       1382       854         0          720          50\n",
       "185         3036       3608      1518      1518         1107          75\n",
       "187         1512       1656       808       704          660          50\n",
       "197         2720       3112      1360      1360         1360          75\n",
       "198         1858       2229       929       929          755          75\n",
       "263          926       1316       926         0          926          50\n",
       "267         1772       2192      1052       720          720          75\n",
       "406         1166       1639      1166         0         1064          50\n",
       "589          779        935       779         0          742          40\n",
       "635         2880       3395      1440      1440         1440         190\n",
       "729          848       1208       848         0          780          30\n",
       "829         1143       1223       520       623          600         160\n",
       "831         1120       1200       520       600          600         160\n",
       "868         2267       2320      1547       720            0          60\n",
       "873         1036       1268      1036         0          832          40\n",
       "883         1749       2230       954       795          795          75\n",
       "945         1749       1869      1188       561         1088          50\n",
       "1009        1008       1522      1008         0         1008          50\n",
       "1031        2685       3082      1687       998          824          75\n",
       "1173        2607       3086      1636       971         1598          50\n",
       "1349        2153       2358       938      1215          684          70\n",
       "1364        1120       1200       520       600          600         160\n",
       "1440        2171       2555      1423       748          588          70"
      ]
     },
     "execution_count": 85,
     "metadata": {},
     "output_type": "execute_result"
    }
   ],
   "source": [
    "# Check that 1st Flr Living Area + 2nd Flr Living Area = GrLivingArea\n",
    "data['GrLivArea2'] = data['1stFlrSF']+data['2ndFlrSF']\n",
    "data[data['GrLivArea2']!=data['GrLivArea']][['GrLivArea2', 'GrLivArea', '1stFlrSF', '2ndFlrSF', 'TotalBsmtSF', \n",
    "    'MSSubClass']]"
   ]
  },
  {
   "cell_type": "code",
   "execution_count": 86,
   "metadata": {},
   "outputs": [
    {
     "data": {
      "text/plain": [
       "(26, 78)"
      ]
     },
     "execution_count": 86,
     "metadata": {},
     "output_type": "execute_result"
    }
   ],
   "source": [
    "data[data['GrLivArea2']!=data['GrLivArea']].shape\n",
    "# 26 observations have the total General Living Area not equal to 1st Flr Area + 2nd Flr Area.\n",
    "# Upon examination of these data rows, the General Living Area in the data is greater than the living area calculated.\n",
    "# The GrLivArea does not seem to include the basement area, because adding that would produce a sum\n",
    "# greater than the general living area in the data. \n",
    "# There may be some data quality issues, so we'll use solely GrLivArea to get rid of the inconsistency "
   ]
  },
  {
   "cell_type": "code",
   "execution_count": 87,
   "metadata": {
    "collapsed": true
   },
   "outputs": [],
   "source": [
    "data = data.drop(['1stFlrSF', '2ndFlrSF'], axis=1)"
   ]
  },
  {
   "cell_type": "markdown",
   "metadata": {},
   "source": [
    "### Bathrooms"
   ]
  },
  {
   "cell_type": "code",
   "execution_count": 88,
   "metadata": {
    "collapsed": true
   },
   "outputs": [],
   "source": [
    "data['BsmtBaths'] = data['BsmtFullBath']+data['BsmtHalfBath']\n",
    "data['Baths'] = data['FullBath']+data['HalfBath']\n",
    "\n",
    "data = data.drop(['BsmtFullBath', 'BsmtHalfBath', 'FullBath', 'HalfBath'], axis=1)"
   ]
  },
  {
   "cell_type": "markdown",
   "metadata": {},
   "source": [
    "### Porch"
   ]
  },
  {
   "cell_type": "code",
   "execution_count": 89,
   "metadata": {},
   "outputs": [
    {
     "data": {
      "text/plain": [
       "Text(0,0.5,'Sale Price')"
      ]
     },
     "execution_count": 89,
     "metadata": {},
     "output_type": "execute_result"
    },
    {
     "data": {
      "image/png": "[encoded data removed]",
      "text/plain": [
       "<matplotlib.figure.Figure at 0x1fb5c22ee80>"
      ]
     },
     "metadata": {},
     "output_type": "display_data"
    }
   ],
   "source": [
    "# Porch Area - how do each of the porch areas vary with Sale Price?\n",
    "# From the graphs, it looks like the more proches of each type below that the property has, \n",
    "# the higher the Sale Price\n",
    "fig = plt.figure(figsize=(5, 25))\n",
    "\n",
    "axplot1 = fig.add_subplot(5, 1, 1)\n",
    "axplot1.scatter(data['WoodDeckSF'], data['SalePrice'])\n",
    "axplot1.set_xlabel('Wood Deck')\n",
    "axplot1.set_ylabel('Sale Price')\n",
    "\n",
    "axplot2 = fig.add_subplot(5, 1, 2)\n",
    "axplot2.scatter(data['OpenPorchSF'], data['SalePrice'])\n",
    "axplot2.set_xlabel('OpenPorchSF')\n",
    "axplot2.set_ylabel('Sale Price')\n",
    "\n",
    "axplot3 = fig.add_subplot(5, 1, 3)\n",
    "axplot3.scatter(data['3SsnPorch'], data['SalePrice'])\n",
    "axplot3.set_xlabel('3SsnPorch')\n",
    "axplot3.set_ylabel('Sale Price')\n",
    "\n",
    "axplot4 = fig.add_subplot(5, 1, 4)\n",
    "axplot4.scatter(data['ScreenPorch'], data['SalePrice'])\n",
    "axplot4.set_xlabel('ScreenPorch')\n",
    "axplot4.set_ylabel('Sale Price')\n",
    "\n",
    "axplot5 = fig.add_subplot(5, 1, 5)\n",
    "axplot5.scatter(data['EnclosedPorch'], data['SalePrice'])\n",
    "axplot5.set_xlabel('EnclosedPorch')\n",
    "axplot5.set_ylabel('Sale Price')"
   ]
  },
  {
   "cell_type": "code",
   "execution_count": 90,
   "metadata": {
    "collapsed": true
   },
   "outputs": [],
   "source": [
    "# Create variable just indicating whether the property has a proch or not\n",
    "# Create variable \n",
    "data['zeros'] = 0\n",
    "data['HasPorch'] = 0\n",
    "data.loc[((data['WoodDeckSF']>data['zeros']) | (data['OpenPorchSF']>data['zeros']) | (data['3SsnPorch']>data['zeros']) | \n",
    "        (data['ScreenPorch']>data['zeros']) | (data['EnclosedPorch']>data['zeros'])), 'HasPorch'] = 1  \n",
    "\n",
    "data['TotalPorchArea'] = data['WoodDeckSF'] + data['OpenPorchSF'] + data['3SsnPorch'] + data['ScreenPorch'] + data['EnclosedPorch']"
   ]
  },
  {
   "cell_type": "code",
   "execution_count": 91,
   "metadata": {
    "collapsed": true
   },
   "outputs": [],
   "source": [
    "# Drop unneeded variables\n",
    "\n",
    "data = data.drop(['BsmtFinType1', 'BsmtFinType2', 'BsmtFinSF1', 'BsmtFinSF2', 'GrLivArea2', 'zeros', 'WoodDeckSF', 'OpenPorchSF', '3SsnPorch', 'ScreenPorch', 'EnclosedPorch'], \n",
    "    axis = 1)"
   ]
  },
  {
   "cell_type": "code",
   "execution_count": 96,
   "metadata": {},
   "outputs": [
    {
     "data": {
      "text/plain": [
       "111"
      ]
     },
     "execution_count": 96,
     "metadata": {},
     "output_type": "execute_result"
    }
   ],
   "source": [
    "# Check variables that still have missing values\n",
    "data.isnull().sum().sum()"
   ]
  },
  {
   "cell_type": "code",
   "execution_count": 99,
   "metadata": {},
   "outputs": [],
   "source": [
    "x = data.isnull().sum()!=0"
   ]
  },
  {
   "cell_type": "code",
   "execution_count": 102,
   "metadata": {},
   "outputs": [
    {
     "data": {
      "text/plain": [
       "BsmtQual        True\n",
       "BsmtCond        True\n",
       "BsmtExposure    True\n",
       "dtype: bool"
      ]
     },
     "execution_count": 102,
     "metadata": {},
     "output_type": "execute_result"
    }
   ],
   "source": [
    "x[x==True]"
   ]
  },
  {
   "cell_type": "code",
   "execution_count": 103,
   "metadata": {
    "collapsed": true
   },
   "outputs": [],
   "source": [
    "# The above var's still have missing values"
   ]
  }
 ],
 "metadata": {
  "kernelspec": {
   "display_name": "Python 3",
   "language": "python",
   "name": "python3"
  },
  "language_info": {
   "codemirror_mode": {
    "name": "ipython",
    "version": 3
   },
   "file_extension": ".py",
   "mimetype": "text/x-python",
   "name": "python",
   "nbconvert_exporter": "python",
   "pygments_lexer": "ipython3",
   "version": "3.6.3"
  }
 },
 "nbformat": 4,
 "nbformat_minor": 2
}
